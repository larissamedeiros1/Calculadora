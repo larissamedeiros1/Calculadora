{
  "nbformat": 4,
  "nbformat_minor": 0,
  "metadata": {
    "colab": {
      "provenance": []
    },
    "kernelspec": {
      "name": "python3",
      "display_name": "Python 3"
    },
    "language_info": {
      "name": "python"
    }
  },
  "cells": [
    {
      "cell_type": "code",
      "execution_count": 125,
      "metadata": {
        "colab": {
          "base_uri": "https://localhost:8080/"
        },
        "id": "woTCZ7Ha2kF-",
        "outputId": "cc64aa50-0e68-4e60-b4cd-048dcbff79d3"
      },
      "outputs": [
        {
          "output_type": "stream",
          "name": "stdout",
          "text": [
            "Olá, seja bem-vindo(a)\n",
            "\n",
            "Digite a seu nome: larissa\n",
            "Digite sua idade: 28\n",
            "\n",
            "Vamos calcular?\n",
            "\n",
            "Digite o primeiro número: 2\n",
            "Digite o segundo número: 2\n",
            "\n",
            "Qual operação deseja realizar?\n",
            "1. Soma\n",
            "2. Subtração\n",
            "3. Multiplicação\n",
            "4. Divisão\n",
            "Escolha a opção desejada: 0\n",
            "Opção inválida, tente novamente!\n",
            "Escolha a opção desejada(1-4): 2\n",
            "O resultado da subtração é: 0\n"
          ]
        }
      ],
      "source": [
        "print(\"Olá, seja bem-vindo(a)\\n\")\n",
        "\n",
        "nome = input(\"Digite a seu nome: \")\n",
        "idade = int(input(\"Digite sua idade: \"))\n",
        "\n",
        "print(\"\\nVamos calcular?\\n\")\n",
        "num1 = int(input(\"Digite o primeiro número: \"))\n",
        "num2 = int(input(\"Digite o segundo número: \"))\n",
        "\n",
        "print(\"\\nQual operação deseja realizar?\")\n",
        "print(\"1. Soma\")\n",
        "print(\"2. Subtração\")\n",
        "print(\"3. Multiplicação\")\n",
        "print(\"4. Divisão\")\n",
        "\n",
        "operacao = int(input(\"Escolha a opção desejada: \"))\n",
        "\n",
        "if operacao == 1:\n",
        "  print(f\"O resultado da soma é: {num1 + num2}\")\n",
        "elif operacao == 2:\n",
        "  print(f\"O resultado da subtração é: {num1 - num2}\")\n",
        "elif operacao == 3:\n",
        "  print(f\"O resultado da multiplicação é: {num1 * num2}\")\n",
        "elif operacao == 4:\n",
        "  if num2 == 0:\n",
        "    print(\"Opção inválida\")\n",
        "  else:\n",
        "    print(f\"O resultado da divisão é: {num1 / num2}\")\n",
        "else:\n",
        "      print(\"Opção inválida, tente novamente!\")\n",
        "\n",
        "      operacao = int(input(\"Escolha a opção desejada(1-4): \"))\n",
        "\n",
        "if operacao == 1:\n",
        "  print(f\"O resultado da soma é: {num1 + num2}\")\n",
        "elif operacao == 2:\n",
        "  print(f\"O resultado da subtração é: {num1 - num2}\")\n",
        "elif operacao == 3:\n",
        "  print(f\"O resultado da multiplicação é: {num1 * num2}\")\n",
        "elif operacao == 4:\n",
        "  print(f\"O resultado da divisão é: {num1 / num2}\")\n"
      ]
    }
  ]
}